{
 "cells": [
  {
   "cell_type": "code",
   "execution_count": 199,
   "id": "8d8c182e",
   "metadata": {},
   "outputs": [],
   "source": [
    "import pandas as pd\n",
    "import numpy as np\n",
    "import scipy.stats as stats\n",
    "import matplotlib.pyplot as plt\n",
    "import seaborn as sns"
   ]
  },
  {
   "cell_type": "code",
   "execution_count": 200,
   "id": "1bb9867d",
   "metadata": {},
   "outputs": [
    {
     "data": {
      "text/html": [
       "<div>\n",
       "<style scoped>\n",
       "    .dataframe tbody tr th:only-of-type {\n",
       "        vertical-align: middle;\n",
       "    }\n",
       "\n",
       "    .dataframe tbody tr th {\n",
       "        vertical-align: top;\n",
       "    }\n",
       "\n",
       "    .dataframe thead th {\n",
       "        text-align: right;\n",
       "    }\n",
       "</style>\n",
       "<table border=\"1\" class=\"dataframe\">\n",
       "  <thead>\n",
       "    <tr style=\"text-align: right;\">\n",
       "      <th></th>\n",
       "      <th>ride_id</th>\n",
       "      <th>rideable_type</th>\n",
       "      <th>started_at</th>\n",
       "      <th>ended_at</th>\n",
       "      <th>start_station_name</th>\n",
       "      <th>start_station_id</th>\n",
       "      <th>end_station_name</th>\n",
       "      <th>end_station_id</th>\n",
       "      <th>start_lat</th>\n",
       "      <th>start_lng</th>\n",
       "      <th>end_lat</th>\n",
       "      <th>end_lng</th>\n",
       "      <th>member_casual</th>\n",
       "    </tr>\n",
       "  </thead>\n",
       "  <tbody>\n",
       "    <tr>\n",
       "      <th>0</th>\n",
       "      <td>B62C76AD61DFE4A5</td>\n",
       "      <td>classic_bike</td>\n",
       "      <td>2025-03-07 08:45:59.496</td>\n",
       "      <td>2025-03-07 08:47:56.041</td>\n",
       "      <td>20th &amp; O St NW / Dupont South</td>\n",
       "      <td>31234.0</td>\n",
       "      <td>New Hampshire Ave &amp; Ward Pl NW</td>\n",
       "      <td>31212.0</td>\n",
       "      <td>38.908905</td>\n",
       "      <td>-77.044780</td>\n",
       "      <td>38.905711</td>\n",
       "      <td>-77.047318</td>\n",
       "      <td>member</td>\n",
       "    </tr>\n",
       "    <tr>\n",
       "      <th>1</th>\n",
       "      <td>20883512A96C1496</td>\n",
       "      <td>electric_bike</td>\n",
       "      <td>2025-03-24 09:37:36.233</td>\n",
       "      <td>2025-03-24 09:45:26.549</td>\n",
       "      <td>33rd St &amp; Wisconsin Ave NW</td>\n",
       "      <td>31337.0</td>\n",
       "      <td>18th &amp; L St NW</td>\n",
       "      <td>31224.0</td>\n",
       "      <td>38.912181</td>\n",
       "      <td>-77.066074</td>\n",
       "      <td>38.903741</td>\n",
       "      <td>-77.042452</td>\n",
       "      <td>member</td>\n",
       "    </tr>\n",
       "    <tr>\n",
       "      <th>2</th>\n",
       "      <td>34DB085578274D9C</td>\n",
       "      <td>classic_bike</td>\n",
       "      <td>2025-03-10 08:37:28.678</td>\n",
       "      <td>2025-03-10 09:19:04.343</td>\n",
       "      <td>Langston Blvd &amp; N Cleveland St</td>\n",
       "      <td>31079.0</td>\n",
       "      <td>1st &amp; I St SE</td>\n",
       "      <td>31628.0</td>\n",
       "      <td>38.894941</td>\n",
       "      <td>-77.091690</td>\n",
       "      <td>38.878854</td>\n",
       "      <td>-77.005727</td>\n",
       "      <td>member</td>\n",
       "    </tr>\n",
       "    <tr>\n",
       "      <th>3</th>\n",
       "      <td>1804A3706C620EC8</td>\n",
       "      <td>classic_bike</td>\n",
       "      <td>2025-03-11 08:39:00.732</td>\n",
       "      <td>2025-03-11 09:24:04.729</td>\n",
       "      <td>Langston Blvd &amp; N Cleveland St</td>\n",
       "      <td>31079.0</td>\n",
       "      <td>1st &amp; I St SE</td>\n",
       "      <td>31628.0</td>\n",
       "      <td>38.894941</td>\n",
       "      <td>-77.091690</td>\n",
       "      <td>38.878854</td>\n",
       "      <td>-77.005727</td>\n",
       "      <td>member</td>\n",
       "    </tr>\n",
       "    <tr>\n",
       "      <th>4</th>\n",
       "      <td>5A6A07F6A594DBC5</td>\n",
       "      <td>classic_bike</td>\n",
       "      <td>2025-03-25 08:22:12.145</td>\n",
       "      <td>2025-03-25 09:07:29.835</td>\n",
       "      <td>Langston Blvd &amp; N Cleveland St</td>\n",
       "      <td>31079.0</td>\n",
       "      <td>1st &amp; I St SE</td>\n",
       "      <td>31628.0</td>\n",
       "      <td>38.894941</td>\n",
       "      <td>-77.091690</td>\n",
       "      <td>38.878854</td>\n",
       "      <td>-77.005727</td>\n",
       "      <td>member</td>\n",
       "    </tr>\n",
       "    <tr>\n",
       "      <th>5</th>\n",
       "      <td>97BB3994DE3ACC9B</td>\n",
       "      <td>classic_bike</td>\n",
       "      <td>2025-03-12 08:22:57.212</td>\n",
       "      <td>2025-03-12 08:28:45.205</td>\n",
       "      <td>6th St &amp; Indiana Ave NW</td>\n",
       "      <td>31264.0</td>\n",
       "      <td>15th St &amp; New York Ave NW</td>\n",
       "      <td>31222.0</td>\n",
       "      <td>38.894573</td>\n",
       "      <td>-77.019940</td>\n",
       "      <td>38.899032</td>\n",
       "      <td>-77.033354</td>\n",
       "      <td>member</td>\n",
       "    </tr>\n",
       "    <tr>\n",
       "      <th>6</th>\n",
       "      <td>FD9F7789322B8356</td>\n",
       "      <td>classic_bike</td>\n",
       "      <td>2025-03-31 12:58:53.766</td>\n",
       "      <td>2025-03-31 13:07:29.064</td>\n",
       "      <td>20th &amp; O St NW / Dupont South</td>\n",
       "      <td>31234.0</td>\n",
       "      <td>15th St &amp; New York Ave NW</td>\n",
       "      <td>31222.0</td>\n",
       "      <td>38.908905</td>\n",
       "      <td>-77.044780</td>\n",
       "      <td>38.899032</td>\n",
       "      <td>-77.033354</td>\n",
       "      <td>member</td>\n",
       "    </tr>\n",
       "    <tr>\n",
       "      <th>7</th>\n",
       "      <td>0572E2FA5C8BE0BB</td>\n",
       "      <td>electric_bike</td>\n",
       "      <td>2025-03-07 07:37:10.133</td>\n",
       "      <td>2025-03-07 07:44:46.430</td>\n",
       "      <td>Columbia Rd &amp; Georgia Ave NW</td>\n",
       "      <td>31115.0</td>\n",
       "      <td>Convention Center / 7th &amp; M St NW</td>\n",
       "      <td>31223.0</td>\n",
       "      <td>38.928121</td>\n",
       "      <td>-77.023795</td>\n",
       "      <td>38.905737</td>\n",
       "      <td>-77.022270</td>\n",
       "      <td>member</td>\n",
       "    </tr>\n",
       "    <tr>\n",
       "      <th>8</th>\n",
       "      <td>7D4C91EBE9D177A0</td>\n",
       "      <td>classic_bike</td>\n",
       "      <td>2025-03-26 09:51:50.417</td>\n",
       "      <td>2025-03-26 09:53:11.206</td>\n",
       "      <td>33rd St &amp; Wisconsin Ave NW</td>\n",
       "      <td>31337.0</td>\n",
       "      <td>Wisconsin Ave &amp; O St NW</td>\n",
       "      <td>31312.0</td>\n",
       "      <td>38.912181</td>\n",
       "      <td>-77.066074</td>\n",
       "      <td>38.908490</td>\n",
       "      <td>-77.063586</td>\n",
       "      <td>member</td>\n",
       "    </tr>\n",
       "    <tr>\n",
       "      <th>9</th>\n",
       "      <td>4178E9C952B8DEF3</td>\n",
       "      <td>classic_bike</td>\n",
       "      <td>2025-03-07 17:10:20.701</td>\n",
       "      <td>2025-03-07 17:28:43.386</td>\n",
       "      <td>15th &amp; W St NW</td>\n",
       "      <td>31125.0</td>\n",
       "      <td>Wisconsin Ave &amp; K St NW</td>\n",
       "      <td>31225.0</td>\n",
       "      <td>38.919018</td>\n",
       "      <td>-77.034449</td>\n",
       "      <td>38.902801</td>\n",
       "      <td>-77.062819</td>\n",
       "      <td>casual</td>\n",
       "    </tr>\n",
       "  </tbody>\n",
       "</table>\n",
       "</div>"
      ],
      "text/plain": [
       "            ride_id  rideable_type               started_at  \\\n",
       "0  B62C76AD61DFE4A5   classic_bike  2025-03-07 08:45:59.496   \n",
       "1  20883512A96C1496  electric_bike  2025-03-24 09:37:36.233   \n",
       "2  34DB085578274D9C   classic_bike  2025-03-10 08:37:28.678   \n",
       "3  1804A3706C620EC8   classic_bike  2025-03-11 08:39:00.732   \n",
       "4  5A6A07F6A594DBC5   classic_bike  2025-03-25 08:22:12.145   \n",
       "5  97BB3994DE3ACC9B   classic_bike  2025-03-12 08:22:57.212   \n",
       "6  FD9F7789322B8356   classic_bike  2025-03-31 12:58:53.766   \n",
       "7  0572E2FA5C8BE0BB  electric_bike  2025-03-07 07:37:10.133   \n",
       "8  7D4C91EBE9D177A0   classic_bike  2025-03-26 09:51:50.417   \n",
       "9  4178E9C952B8DEF3   classic_bike  2025-03-07 17:10:20.701   \n",
       "\n",
       "                  ended_at              start_station_name  start_station_id  \\\n",
       "0  2025-03-07 08:47:56.041   20th & O St NW / Dupont South           31234.0   \n",
       "1  2025-03-24 09:45:26.549      33rd St & Wisconsin Ave NW           31337.0   \n",
       "2  2025-03-10 09:19:04.343  Langston Blvd & N Cleveland St           31079.0   \n",
       "3  2025-03-11 09:24:04.729  Langston Blvd & N Cleveland St           31079.0   \n",
       "4  2025-03-25 09:07:29.835  Langston Blvd & N Cleveland St           31079.0   \n",
       "5  2025-03-12 08:28:45.205         6th St & Indiana Ave NW           31264.0   \n",
       "6  2025-03-31 13:07:29.064   20th & O St NW / Dupont South           31234.0   \n",
       "7  2025-03-07 07:44:46.430    Columbia Rd & Georgia Ave NW           31115.0   \n",
       "8  2025-03-26 09:53:11.206      33rd St & Wisconsin Ave NW           31337.0   \n",
       "9  2025-03-07 17:28:43.386                  15th & W St NW           31125.0   \n",
       "\n",
       "                    end_station_name  end_station_id  start_lat  start_lng  \\\n",
       "0     New Hampshire Ave & Ward Pl NW         31212.0  38.908905 -77.044780   \n",
       "1                     18th & L St NW         31224.0  38.912181 -77.066074   \n",
       "2                      1st & I St SE         31628.0  38.894941 -77.091690   \n",
       "3                      1st & I St SE         31628.0  38.894941 -77.091690   \n",
       "4                      1st & I St SE         31628.0  38.894941 -77.091690   \n",
       "5          15th St & New York Ave NW         31222.0  38.894573 -77.019940   \n",
       "6          15th St & New York Ave NW         31222.0  38.908905 -77.044780   \n",
       "7  Convention Center / 7th & M St NW         31223.0  38.928121 -77.023795   \n",
       "8            Wisconsin Ave & O St NW         31312.0  38.912181 -77.066074   \n",
       "9            Wisconsin Ave & K St NW         31225.0  38.919018 -77.034449   \n",
       "\n",
       "     end_lat    end_lng member_casual  \n",
       "0  38.905711 -77.047318        member  \n",
       "1  38.903741 -77.042452        member  \n",
       "2  38.878854 -77.005727        member  \n",
       "3  38.878854 -77.005727        member  \n",
       "4  38.878854 -77.005727        member  \n",
       "5  38.899032 -77.033354        member  \n",
       "6  38.899032 -77.033354        member  \n",
       "7  38.905737 -77.022270        member  \n",
       "8  38.908490 -77.063586        member  \n",
       "9  38.902801 -77.062819        casual  "
      ]
     },
     "execution_count": 200,
     "metadata": {},
     "output_type": "execute_result"
    }
   ],
   "source": [
    "# load data\n",
    "df = pd.read_csv(\"../data/202503-capitalbikeshare-tripdata.csv\")\n",
    "df.head(10)"
   ]
  },
  {
   "cell_type": "code",
   "execution_count": 201,
   "id": "5be0df73",
   "metadata": {},
   "outputs": [
    {
     "name": "stdout",
     "output_type": "stream",
     "text": [
      "<class 'pandas.core.frame.DataFrame'>\n",
      "RangeIndex: 626757 entries, 0 to 626756\n",
      "Data columns (total 13 columns):\n",
      " #   Column              Non-Null Count   Dtype  \n",
      "---  ------              --------------   -----  \n",
      " 0   ride_id             626757 non-null  object \n",
      " 1   rideable_type       626757 non-null  object \n",
      " 2   started_at          626757 non-null  object \n",
      " 3   ended_at            626757 non-null  object \n",
      " 4   start_station_name  460635 non-null  object \n",
      " 5   start_station_id    460635 non-null  float64\n",
      " 6   end_station_name    456924 non-null  object \n",
      " 7   end_station_id      456837 non-null  float64\n",
      " 8   start_lat           626757 non-null  float64\n",
      " 9   start_lng           626757 non-null  float64\n",
      " 10  end_lat             626434 non-null  float64\n",
      " 11  end_lng             626434 non-null  float64\n",
      " 12  member_casual       626757 non-null  object \n",
      "dtypes: float64(6), object(7)\n",
      "memory usage: 62.2+ MB\n"
     ]
    }
   ],
   "source": [
    "df.info()"
   ]
  },
  {
   "cell_type": "code",
   "execution_count": 202,
   "id": "1f3894ae",
   "metadata": {},
   "outputs": [],
   "source": [
    "datetime_columns = [\"started_at\", \"ended_at\"]\n",
    "for col in datetime_columns:\n",
    "    df[col] = pd.to_datetime(df[col])"
   ]
  },
  {
   "cell_type": "code",
   "execution_count": 203,
   "id": "70d4ac6d",
   "metadata": {},
   "outputs": [
    {
     "name": "stdout",
     "output_type": "stream",
     "text": [
      "<class 'pandas.core.frame.DataFrame'>\n",
      "RangeIndex: 626757 entries, 0 to 626756\n",
      "Data columns (total 13 columns):\n",
      " #   Column              Non-Null Count   Dtype         \n",
      "---  ------              --------------   -----         \n",
      " 0   ride_id             626757 non-null  object        \n",
      " 1   rideable_type       626757 non-null  object        \n",
      " 2   started_at          626757 non-null  datetime64[ns]\n",
      " 3   ended_at            626757 non-null  datetime64[ns]\n",
      " 4   start_station_name  460635 non-null  object        \n",
      " 5   start_station_id    460635 non-null  float64       \n",
      " 6   end_station_name    456924 non-null  object        \n",
      " 7   end_station_id      456837 non-null  float64       \n",
      " 8   start_lat           626757 non-null  float64       \n",
      " 9   start_lng           626757 non-null  float64       \n",
      " 10  end_lat             626434 non-null  float64       \n",
      " 11  end_lng             626434 non-null  float64       \n",
      " 12  member_casual       626757 non-null  object        \n",
      "dtypes: datetime64[ns](2), float64(6), object(5)\n",
      "memory usage: 62.2+ MB\n"
     ]
    }
   ],
   "source": [
    "df.info()"
   ]
  },
  {
   "cell_type": "code",
   "execution_count": 204,
   "id": "d54fef4c",
   "metadata": {},
   "outputs": [],
   "source": [
    "df['ride_duration'] = (df['ended_at'] - df['started_at']).dt.total_seconds() / 60 # to turn it into minutes"
   ]
  },
  {
   "cell_type": "code",
   "execution_count": 205,
   "id": "8535d198",
   "metadata": {},
   "outputs": [
    {
     "data": {
      "text/html": [
       "<div>\n",
       "<style scoped>\n",
       "    .dataframe tbody tr th:only-of-type {\n",
       "        vertical-align: middle;\n",
       "    }\n",
       "\n",
       "    .dataframe tbody tr th {\n",
       "        vertical-align: top;\n",
       "    }\n",
       "\n",
       "    .dataframe thead th {\n",
       "        text-align: right;\n",
       "    }\n",
       "</style>\n",
       "<table border=\"1\" class=\"dataframe\">\n",
       "  <thead>\n",
       "    <tr style=\"text-align: right;\">\n",
       "      <th></th>\n",
       "      <th>started_at</th>\n",
       "      <th>ended_at</th>\n",
       "      <th>ride_duration</th>\n",
       "    </tr>\n",
       "  </thead>\n",
       "  <tbody>\n",
       "    <tr>\n",
       "      <th>0</th>\n",
       "      <td>2025-03-07 08:45:59.496</td>\n",
       "      <td>2025-03-07 08:47:56.041</td>\n",
       "      <td>1.942417</td>\n",
       "    </tr>\n",
       "    <tr>\n",
       "      <th>1</th>\n",
       "      <td>2025-03-24 09:37:36.233</td>\n",
       "      <td>2025-03-24 09:45:26.549</td>\n",
       "      <td>7.838600</td>\n",
       "    </tr>\n",
       "    <tr>\n",
       "      <th>2</th>\n",
       "      <td>2025-03-10 08:37:28.678</td>\n",
       "      <td>2025-03-10 09:19:04.343</td>\n",
       "      <td>41.594417</td>\n",
       "    </tr>\n",
       "    <tr>\n",
       "      <th>3</th>\n",
       "      <td>2025-03-11 08:39:00.732</td>\n",
       "      <td>2025-03-11 09:24:04.729</td>\n",
       "      <td>45.066617</td>\n",
       "    </tr>\n",
       "    <tr>\n",
       "      <th>4</th>\n",
       "      <td>2025-03-25 08:22:12.145</td>\n",
       "      <td>2025-03-25 09:07:29.835</td>\n",
       "      <td>45.294833</td>\n",
       "    </tr>\n",
       "  </tbody>\n",
       "</table>\n",
       "</div>"
      ],
      "text/plain": [
       "               started_at                ended_at  ride_duration\n",
       "0 2025-03-07 08:45:59.496 2025-03-07 08:47:56.041       1.942417\n",
       "1 2025-03-24 09:37:36.233 2025-03-24 09:45:26.549       7.838600\n",
       "2 2025-03-10 08:37:28.678 2025-03-10 09:19:04.343      41.594417\n",
       "3 2025-03-11 08:39:00.732 2025-03-11 09:24:04.729      45.066617\n",
       "4 2025-03-25 08:22:12.145 2025-03-25 09:07:29.835      45.294833"
      ]
     },
     "execution_count": 205,
     "metadata": {},
     "output_type": "execute_result"
    }
   ],
   "source": [
    "df[[\"started_at\", \"ended_at\", \"ride_duration\"]].head()"
   ]
  },
  {
   "cell_type": "code",
   "execution_count": 206,
   "id": "85e37c08",
   "metadata": {},
   "outputs": [
    {
     "data": {
      "text/plain": [
       "626757"
      ]
     },
     "execution_count": 206,
     "metadata": {},
     "output_type": "execute_result"
    }
   ],
   "source": [
    "len(df)"
   ]
  },
  {
   "cell_type": "code",
   "execution_count": 207,
   "id": "023b6738",
   "metadata": {},
   "outputs": [
    {
     "data": {
      "text/plain": [
       "577562"
      ]
     },
     "execution_count": 207,
     "metadata": {},
     "output_type": "execute_result"
    }
   ],
   "source": [
    "q1, q3 = np.percentile(df['ride_duration'], [25, 75])\n",
    "iqr = q3 - q1\n",
    "y_min = q1 - 1.5 * iqr\n",
    "y_max = q3 + 1.5 * iqr\n",
    "df = df[(df['ride_duration'] > y_min) & (df['ride_duration'] < y_max)]\n",
    "len(df)"
   ]
  },
  {
   "cell_type": "code",
   "execution_count": 208,
   "id": "1c16cad8",
   "metadata": {},
   "outputs": [],
   "source": [
    "df = df.reset_index()"
   ]
  },
  {
   "cell_type": "code",
   "execution_count": 209,
   "id": "4b59666c",
   "metadata": {},
   "outputs": [
    {
     "name": "stdout",
     "output_type": "stream",
     "text": [
      "t stat: 47.56292733505195 p val: 0.0\n"
     ]
    }
   ],
   "source": [
    "# One-Sample T-Test: Is average ride duration different from 10 minutes?\n",
    "t_stat, p_val = stats.ttest_1samp(df['ride_duration'], 10)\n",
    "print(f\"t stat: {t_stat}\", f\"p val: {p_val}\")"
   ]
  },
  {
   "cell_type": "code",
   "execution_count": 210,
   "id": "d7b0b538",
   "metadata": {},
   "outputs": [
    {
     "name": "stdout",
     "output_type": "stream",
     "text": [
      "t_stat: 47.5629\n",
      "t_critical (two_tailed): 1.9600\n"
     ]
    }
   ],
   "source": [
    "# find critical t value at 5% significance level (95% confidence level)\n",
    "alpha = 0.05\n",
    "df_error = len(df['ride_duration']) - 1\n",
    "t_critical = stats.t.ppf(1 - alpha/2, df_error)\n",
    "print(f\"t_stat: {t_stat:.4f}\")\n",
    "print(f\"t_critical (two_tailed): {abs(t_critical):.4f}\")"
   ]
  },
  {
   "cell_type": "code",
   "execution_count": 211,
   "id": "2e0e514e",
   "metadata": {},
   "outputs": [],
   "source": [
    "mean_ride = df['ride_duration'].mean()"
   ]
  },
  {
   "cell_type": "code",
   "execution_count": 212,
   "id": "197eee92",
   "metadata": {},
   "outputs": [],
   "source": [
    "test_value = 10\n",
    "std_dev = df['ride_duration'].std()\n",
    "cohens_d = (mean_ride - test_value) / std_dev"
   ]
  },
  {
   "cell_type": "code",
   "execution_count": 213,
   "id": "4ca0c824",
   "metadata": {},
   "outputs": [
    {
     "name": "stdout",
     "output_type": "stream",
     "text": [
      "Mean: 10.455381531823999\n",
      "Cohen's d-stat: 0.06258485787135985\n"
     ]
    }
   ],
   "source": [
    "print(f\"Mean: {mean_ride}\")\n",
    "print(f\"Cohen's d-stat: {cohens_d}\")"
   ]
  },
  {
   "cell_type": "code",
   "execution_count": 214,
   "id": "f45fb640",
   "metadata": {},
   "outputs": [
    {
     "name": "stdout",
     "output_type": "stream",
     "text": [
      "95% Confidence Interval: (10.44, 10.47)\n"
     ]
    }
   ],
   "source": [
    "# confidence interval\n",
    "n = len(df['ride_duration'])\n",
    "std_err = std_dev / np.sqrt(n)\n",
    "conf_int = stats.t.interval(0.95, n-1, loc=mean_ride, scale=std_err)\n",
    "print(f\"95% Confidence Interval: ({conf_int[0]:.2f}, {conf_int[1]:.2f})\")"
   ]
  },
  {
   "cell_type": "markdown",
   "id": "37ae0d77",
   "metadata": {},
   "source": [
    "### Independent t test"
   ]
  },
  {
   "cell_type": "code",
   "execution_count": 215,
   "id": "7239d049",
   "metadata": {},
   "outputs": [],
   "source": [
    "member_duration = df[df[\"member_casual\"] == 'member']['ride_duration']\n",
    "casual_duration = df[df['member_casual'] == 'casual']['ride_duration']"
   ]
  },
  {
   "cell_type": "code",
   "execution_count": 216,
   "id": "ec78c19d",
   "metadata": {},
   "outputs": [
    {
     "name": "stdout",
     "output_type": "stream",
     "text": [
      "t stat: -119.75634750772885 p val: 0.0\n"
     ]
    }
   ],
   "source": [
    "t_stat, p_val = stats.ttest_ind(member_duration, casual_duration)\n",
    "print(f\"t stat: {t_stat}\", f\"p val: {p_val}\")"
   ]
  },
  {
   "cell_type": "code",
   "execution_count": 217,
   "id": "f9035546",
   "metadata": {},
   "outputs": [
    {
     "name": "stdout",
     "output_type": "stream",
     "text": [
      "Member Mean Duration: 9.76 minutes\n",
      "Casual Mean Duration: 12.29 minutes\n"
     ]
    }
   ],
   "source": [
    "print(f\"Member Mean Duration: {member_duration.mean():.2f} minutes\")\n",
    "print(f\"Casual Mean Duration: {casual_duration.mean():.2f} minutes\")"
   ]
  },
  {
   "cell_type": "code",
   "execution_count": 218,
   "id": "c72cb284",
   "metadata": {},
   "outputs": [
    {
     "data": {
      "image/png": "[encoded data removed]",
      "text/plain": [
       "<Figure size 640x480 with 2 Axes>"
      ]
     },
     "metadata": {},
     "output_type": "display_data"
    }
   ],
   "source": [
    "_, ax = plt.subplots(1, 2)\n",
    "sns.kdeplot(member_duration, color='red', label=\"Member duration\", ax=ax[0])\n",
    "sns.kdeplot(casual_duration, color='green', label=\"Casual duration\", ax=ax[1])\n",
    "plt.show()"
   ]
  },
  {
   "cell_type": "code",
   "execution_count": 219,
   "id": "3440894c",
   "metadata": {},
   "outputs": [
    {
     "name": "stdout",
     "output_type": "stream",
     "text": [
      "Member normality test: W=0.9099, p=0.000000\n",
      "Casual normality test: W=0.9431, p=0.000000\n"
     ]
    },
    {
     "name": "stderr",
     "output_type": "stream",
     "text": [
      "d:\\ANNACONDA\\projects\\Applied_Regression_In_Python\\.venv\\Lib\\site-packages\\scipy\\stats\\_axis_nan_policy.py:586: UserWarning: scipy.stats.shapiro: For N > 5000, computed p-value may not be accurate. Current N is 418205.\n",
      "  res = hypotest_fun_out(*samples, **kwds)\n",
      "d:\\ANNACONDA\\projects\\Applied_Regression_In_Python\\.venv\\Lib\\site-packages\\scipy\\stats\\_axis_nan_policy.py:586: UserWarning: scipy.stats.shapiro: For N > 5000, computed p-value may not be accurate. Current N is 159357.\n",
      "  res = hypotest_fun_out(*samples, **kwds)\n"
     ]
    }
   ],
   "source": [
    "shapiro_member = stats.shapiro(member_duration)\n",
    "shapiro_casual = stats.shapiro(casual_duration)\n",
    "print(f\"Member normality test: W={shapiro_member[0]:.4f}, p={shapiro_member[1]:.6f}\")\n",
    "print(f\"Casual normality test: W={shapiro_casual[0]:.4f}, p={shapiro_casual[1]:.6f}\")"
   ]
  },
  {
   "cell_type": "code",
   "execution_count": 220,
   "id": "4895bab3",
   "metadata": {},
   "outputs": [],
   "source": [
    "member_duration_log = np.log1p(member_duration)\n",
    "casual_duration_log = np.log1p(casual_duration)"
   ]
  },
  {
   "cell_type": "code",
   "execution_count": 221,
   "id": "864b91a2",
   "metadata": {},
   "outputs": [
    {
     "name": "stdout",
     "output_type": "stream",
     "text": [
      "Member normality test: W=0.9864, p=0.000000\n",
      "Casual normality test: W=0.9557, p=0.000000\n"
     ]
    }
   ],
   "source": [
    "shapiro_member = stats.shapiro(member_duration_log)\n",
    "shapiro_casual = stats.shapiro(casual_duration_log)\n",
    "print(f\"Member normality test: W={shapiro_member[0]:.4f}, p={shapiro_member[1]:.6f}\")\n",
    "print(f\"Casual normality test: W={shapiro_casual[0]:.4f}, p={shapiro_casual[1]:.6f}\")"
   ]
  },
  {
   "cell_type": "code",
   "execution_count": 223,
   "id": "ba58f681",
   "metadata": {},
   "outputs": [],
   "source": [
    "member_duration_boxcox, lambda_member = stats.boxcox(member_duration)\n",
    "casual_duration_boxcox, lambda_casual = stats.boxcox(casual_duration)"
   ]
  },
  {
   "cell_type": "code",
   "execution_count": 224,
   "id": "b14fed50",
   "metadata": {},
   "outputs": [
    {
     "name": "stdout",
     "output_type": "stream",
     "text": [
      "Member normality test: W=0.9958, p=0.000000\n",
      "Casual normality test: W=0.9910, p=0.000000\n"
     ]
    },
    {
     "name": "stderr",
     "output_type": "stream",
     "text": [
      "d:\\ANNACONDA\\projects\\Applied_Regression_In_Python\\.venv\\Lib\\site-packages\\scipy\\stats\\_axis_nan_policy.py:586: UserWarning: scipy.stats.shapiro: For N > 5000, computed p-value may not be accurate. Current N is 418205.\n",
      "  res = hypotest_fun_out(*samples, **kwds)\n",
      "d:\\ANNACONDA\\projects\\Applied_Regression_In_Python\\.venv\\Lib\\site-packages\\scipy\\stats\\_axis_nan_policy.py:586: UserWarning: scipy.stats.shapiro: For N > 5000, computed p-value may not be accurate. Current N is 159357.\n",
      "  res = hypotest_fun_out(*samples, **kwds)\n"
     ]
    }
   ],
   "source": [
    "shapiro_member = stats.shapiro(member_duration_boxcox)\n",
    "shapiro_casual = stats.shapiro(casual_duration_boxcox)\n",
    "print(f\"Member normality test: W={shapiro_member[0]:.4f}, p={shapiro_member[1]:.6f}\")\n",
    "print(f\"Casual normality test: W={shapiro_casual[0]:.4f}, p={shapiro_casual[1]:.6f}\")"
   ]
  },
  {
   "cell_type": "code",
   "execution_count": 225,
   "id": "1bdf5882",
   "metadata": {},
   "outputs": [
    {
     "data": {
      "image/png": "[encoded data removed]",
      "text/plain": [
       "<Figure size 640x480 with 2 Axes>"
      ]
     },
     "metadata": {},
     "output_type": "display_data"
    }
   ],
   "source": [
    "plt.subplot(1, 2, 1)\n",
    "stats.probplot(member_duration_log, plot=plt)\n",
    "\n",
    "plt.subplot(1, 2, 2)\n",
    "stats.probplot(casual_duration_log, plot=plt)\n",
    "plt.show()"
   ]
  },
  {
   "cell_type": "code",
   "execution_count": 226,
   "id": "6a5b9d83",
   "metadata": {},
   "outputs": [
    {
     "data": {
      "image/png": "[encoded data removed]",
      "text/plain": [
       "<Figure size 640x480 with 2 Axes>"
      ]
     },
     "metadata": {},
     "output_type": "display_data"
    }
   ],
   "source": [
    "# Create figure with shared x and y axes\n",
    "fig, axs = plt.subplots(1, 2, sharex=True, sharey=True)\n",
    "\n",
    "plt.suptitle(\"QQ Plot of Box Cox Transformation\", fontsize=15)\n",
    "\n",
    "stats.probplot(member_duration_boxcox, plot=axs[0])\n",
    "axs[0].set_title(\"Member\")\n",
    "axs[0].set_xlabel(\"Theoretical Quantiles\")\n",
    "# axs[0].set_ylabel(\"Ordered Values\")\n",
    "\n",
    "stats.probplot(casual_duration_boxcox, plot=axs[1])\n",
    "axs[1].set_title(\"Casual\")\n",
    "# axs[1].set_xlabel(\"Theoretical Quantiles\")\n",
    "\n",
    "plt.tight_layout()\n",
    "plt.subplots_adjust(top=0.84)\n",
    "plt.show()"
   ]
  },
  {
   "cell_type": "code",
   "execution_count": 227,
   "id": "c21de105",
   "metadata": {},
   "outputs": [
    {
     "data": {
      "image/png": "[encoded data removed]",
      "text/plain": [
       "<Figure size 640x480 with 2 Axes>"
      ]
     },
     "metadata": {},
     "output_type": "display_data"
    }
   ],
   "source": [
    "_, ax = plt.subplots(1, 2, sharey=True)\n",
    "sns.kdeplot(member_duration_boxcox, ax=ax[0], color=\"red\", fill=True, linewidth=0)\n",
    "sns.kdeplot(casual_duration_boxcox, ax=ax[1], color=\"green\", fill=True, linewidth=0)\n",
    "\n",
    "ax[0].set_title(\"Member\")\n",
    "ax[1].set_title(\"Casual\")\n",
    "plt.show()"
   ]
  },
  {
   "cell_type": "code",
   "execution_count": 228,
   "id": "bec56a30",
   "metadata": {},
   "outputs": [
    {
     "name": "stdout",
     "output_type": "stream",
     "text": [
      "Levene's test: W=22791.2658, p=0.0000\n"
     ]
    }
   ],
   "source": [
    "lev_stat, lev_p = stats.levene(member_duration_boxcox, casual_duration_boxcox)\n",
    "print(f\"Levene's test: W={lev_stat:.4f}, p={lev_p:.4f}\")"
   ]
  },
  {
   "cell_type": "code",
   "execution_count": 232,
   "id": "39917e58",
   "metadata": {},
   "outputs": [
    {
     "name": "stdout",
     "output_type": "stream",
     "text": [
      "Independent t-test (equal variances):\n",
      "t-statistic: -214.9065\n",
      "p-value: 0.0000\n"
     ]
    }
   ],
   "source": [
    "t_stat, p_val = stats.ttest_ind(member_duration_boxcox, casual_duration_boxcox, equal_var=(lev_p > 0.05))\n",
    "print(f\"Independent t-test (equal variances):\")\n",
    "print(f\"t-statistic: {t_stat:.4f}\")\n",
    "print(f\"p-value: {p_val:.4f}\")"
   ]
  },
  {
   "cell_type": "code",
   "execution_count": 233,
   "id": "57cb124d",
   "metadata": {},
   "outputs": [
    {
     "name": "stdout",
     "output_type": "stream",
     "text": [
      "Member Duration Mean: 9.756231276208238\n",
      "Casual Duration Mean: 12.290180961091552\n"
     ]
    }
   ],
   "source": [
    "print(f\"Member Duration Mean: {member_duration.mean()}\")\n",
    "print(f\"Casual Duration Mean: {casual_duration.mean()}\")"
   ]
  },
  {
   "cell_type": "code",
   "execution_count": 239,
   "id": "b4dd5e3d",
   "metadata": {},
   "outputs": [
    {
     "name": "stdout",
     "output_type": "stream",
     "text": [
      "Member Duration Length: 418205\n",
      "Casual Duration Length: 159357\n"
     ]
    }
   ],
   "source": [
    "print(f\"Member Duration Length: {len(member_duration)}\")\n",
    "print(f\"Casual Duration Length: {len(casual_duration)}\")"
   ]
  },
  {
   "cell_type": "code",
   "execution_count": 235,
   "id": "d3807bd6",
   "metadata": {},
   "outputs": [
    {
     "name": "stdout",
     "output_type": "stream",
     "text": [
      "Mann-Whitney U test: U=26655035616.5, p=0.000000\n"
     ]
    }
   ],
   "source": [
    "mw_test = stats.mannwhitneyu(member_duration, casual_duration, alternative=\"two-sided\")\n",
    "print(f\"Mann-Whitney U test: U={mw_test.statistic:.1f}, p={mw_test.pvalue:.6f}\")"
   ]
  },
  {
   "cell_type": "code",
   "execution_count": 236,
   "id": "48fd96fb",
   "metadata": {},
   "outputs": [
    {
     "name": "stdout",
     "output_type": "stream",
     "text": [
      "Brown-Forsythe test: W=22791.2658, p=0.000000\n"
     ]
    }
   ],
   "source": [
    "bf_stat, bf_p = stats.levene(member_duration_boxcox, casual_duration_boxcox, center='median')\n",
    "print(f\"Brown-Forsythe test: W={bf_stat:.4f}, p={bf_p:.6f}\")"
   ]
  },
  {
   "cell_type": "code",
   "execution_count": null,
   "id": "f96fdf9b",
   "metadata": {},
   "outputs": [
    {
     "name": "stdout",
     "output_type": "stream",
     "text": [
      "Mean difference (member - casual): -1.3603\n",
      "95% Bootstrap CI: (-1.3730, -1.3472)\n"
     ]
    }
   ],
   "source": [
    "def bootstrap_ci(data1, data2, n_bootstrap=5000, statistic=np.mean, ci=95):\n",
    "    n1, n2 = len(data1), len(data2)\n",
    "    boot_diffs = []\n",
    "\n",
    "    for _ in range(n_bootstrap):\n",
    "        # resample with replacement\n",
    "        boot_sample1 = np.random.choice(data1, size=n1, replace=True)\n",
    "        boot_sample2 = np.random.choice(data2, size=n2, replace=True)\n",
    "\n",
    "        # calculate difference in statistic\n",
    "        stat1 = statistic(boot_sample1)\n",
    "        stat2 = statistic(boot_sample2)\n",
    "        boot_diffs.append(stat1 - stat2)\n",
    "\n",
    "    # calculate confidence interval\n",
    "    lower_percentile = (100 - ci) / 2\n",
    "    upper_percentile = 100 - lower_percentile\n",
    "    lower_bound = np.percentile(boot_diffs, lower_percentile)\n",
    "    upper_bound = np.percentile(boot_diffs, upper_percentile)\n",
    "\n",
    "    return lower_bound, upper_bound\n",
    "\n",
    "# calculate bootstrap CI for mean difference\n",
    "orig_diff = np.mean(member_duration_boxcox) - np.mean(casual_duration_boxcox)\n",
    "ci_lower, ci_upper = bootstrap_ci(member_duration_boxcox, casual_duration_boxcox)\n",
    "\n",
    "print(f\"Mean difference (member - casual): {orig_diff:.4f}\")\n",
    "print(f\"95% Bootstrap CI: ({ci_lower:.4f}, {ci_upper:.4f})\")"
   ]
  },
  {
   "cell_type": "code",
   "execution_count": 246,
   "id": "5bce0a28",
   "metadata": {},
   "outputs": [
    {
     "name": "stdout",
     "output_type": "stream",
     "text": [
      "Original Difference: -20.62%\n",
      "Boxcox Difference: -29.75%\n"
     ]
    }
   ],
   "source": [
    "percent_diff_orig = ((np.mean(member_duration) - np.mean(casual_duration)) / np.mean(casual_duration)) * 100\n",
    "percent_diff_boxcox = (orig_diff / np.mean(casual_duration_boxcox)) * 100\n",
    "\n",
    "print(f\"Original Difference: {percent_diff_orig:.2f}%\")\n",
    "print(f\"Boxcox Difference: {percent_diff_boxcox:.2f}%\")"
   ]
  },
  {
   "cell_type": "code",
   "execution_count": 247,
   "id": "09bf5c50",
   "metadata": {},
   "outputs": [
    {
     "name": "stdout",
     "output_type": "stream",
     "text": [
      "Median p-value across 100 balanced samples: 0.000000\n",
      "Balanced sample result significant at α=0.05: True\n"
     ]
    }
   ],
   "source": [
    "smaller_n = min(len(member_duration_boxcox), len(casual_duration_boxcox))\n",
    "larger_group = \"member\" if len(member_duration_boxcox) > len(casual_duration_boxcox) else \"casual\"\n",
    "\n",
    "n_iterations = 100\n",
    "p_values = []\n",
    "\n",
    "for i in range(n_iterations):\n",
    "    if larger_group == \"member\":\n",
    "        member_subsample = np.random.choice(member_duration_boxcox, size=smaller_n, replace=False)\n",
    "        casual_subsample = casual_duration_boxcox\n",
    "    else:\n",
    "        member_subsample = member_duration_boxcox\n",
    "        casual_subsample = np.random.choice(casual_duration_boxcox, size=smaller_n, replace=False)\n",
    "    \n",
    "    t_result = stats.ttest_ind(member_subsample, casual_subsample, equal_var=False)\n",
    "    p_values.append(t_result.pvalue)\n",
    "\n",
    "print(f\"Median p-value across {n_iterations} balanced samples: {np.median(p_values):.6f}\")\n",
    "print(f\"Balanced sample result significant at α=0.05: {np.median(p_values) < 0.05}\")"
   ]
  }
 ],
 "metadata": {
  "kernelspec": {
   "display_name": ".venv",
   "language": "python",
   "name": "python3"
  },
  "language_info": {
   "codemirror_mode": {
    "name": "ipython",
    "version": 3
   },
   "file_extension": ".py",
   "mimetype": "text/x-python",
   "name": "python",
   "nbconvert_exporter": "python",
   "pygments_lexer": "ipython3",
   "version": "3.13.1"
  }
 },
 "nbformat": 4,
 "nbformat_minor": 5
}
